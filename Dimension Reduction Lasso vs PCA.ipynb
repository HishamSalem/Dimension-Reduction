{
 "cells": [
  {
   "cell_type": "markdown",
   "metadata": {},
   "source": [
    "# Dimension Reduction Using Lasso vs PCA"
   ]
  },
  {
   "cell_type": "code",
   "execution_count": 6,
   "metadata": {},
   "outputs": [],
   "source": [
    "from sklearn.metrics import mean_squared_error\n",
    "from sklearn import metrics\n",
    "from sklearn.preprocessing import StandardScaler\n",
    "from sklearn.linear_model import Lasso\n",
    "from sklearn.decomposition import PCA\n",
    "from sklearn.model_selection import train_test_split\n",
    "from sklearn.neighbors import KNeighborsClassifier\n",
    "import timeit\n",
    "\n",
    "\n",
    "import pandas as pd\n",
    "df=pd.read_csv(\"D:\\\\Downloads\\\\UniversalBank.csv\")\n",
    "\n",
    "df=df.drop([\"UserID\"],axis=1)\n",
    "X=df.iloc[:,0:11]\n",
    "y=df[\"Personal Loan\"]"
   ]
  },
  {
   "cell_type": "markdown",
   "metadata": {},
   "source": [
    "## Lasso"
   ]
  },
  {
   "cell_type": "code",
   "execution_count": 7,
   "metadata": {},
   "outputs": [
    {
     "name": "stdout",
     "output_type": "stream",
     "text": [
      "             predictor  importance\n",
      "0                  Age    0.000000\n",
      "1           Experience    0.000000\n",
      "2               Income    0.094884\n",
      "3               Family    0.000000\n",
      "4                CCAvg    0.000000\n",
      "5            Education    0.007694\n",
      "6             Mortgage    0.000000\n",
      "7   Securities Account   -0.000000\n",
      "8           CD Account    0.026983\n",
      "9               Online   -0.000000\n",
      "10          CreditCard   -0.000000\n"
     ]
    }
   ],
   "source": [
    "scaler=StandardScaler()\n",
    "X_std=scaler.fit_transform(X)\n",
    "\n",
    "lm1=Lasso(alpha=0.05,random_state=5)\n",
    "model_L=lm1.fit(X_std,y)\n",
    "model_L.coef_\n",
    "\n",
    "print(pd.DataFrame(list(zip(X.columns,model_L.coef_)),columns=[\"predictor\",\"importance\"]))"
   ]
  },
  {
   "cell_type": "markdown",
   "metadata": {},
   "source": [
    "## PCA"
   ]
  },
  {
   "cell_type": "code",
   "execution_count": 8,
   "metadata": {},
   "outputs": [],
   "source": [
    "pca=PCA(n_components=3,random_state=5)\n",
    "pca.fit(X)\n",
    "\n",
    "pca.explained_variance_ratio_\n",
    "\n",
    "pd.DataFrame(list(zip(X.columns,pca.explained_variance_ratio_)),columns=[\"predictor\",\"importance\"])\n",
    "\n",
    "#For dimension reduction:\n",
    "X_new=pca.transform(X)\n"
   ]
  },
  {
   "cell_type": "markdown",
   "metadata": {},
   "source": [
    "## Model 1 "
   ]
  },
  {
   "cell_type": "code",
   "execution_count": 9,
   "metadata": {},
   "outputs": [
    {
     "name": "stdout",
     "output_type": "stream",
     "text": [
      "Time:  0.01126160000001164\n",
      "0.958\n",
      "0.9215686274509803\n",
      "0.6308724832214765\n"
     ]
    }
   ],
   "source": [
    "\n",
    "X_train1,X_test1,y_train1,y_test1=train_test_split(X_std,y,random_state=5,test_size=0.3)\n",
    "\n",
    "knn=KNeighborsClassifier(n_neighbors=3)\n",
    "start = timeit.default_timer()\n",
    "model1=knn.fit(X_train1,y_train1)\n",
    "stop = timeit.default_timer()\n",
    "y_test_pred1=model1.predict(X_test1)\n",
    "\n",
    "print('Time: ', stop - start)#0.01419949999990422\n",
    "print(metrics.accuracy_score(y_test1, y_test_pred1)) #0.958\n",
    "print(metrics.precision_score(y_test1,y_test_pred1)) #0.9215686274509803\n",
    "print(metrics.recall_score(y_test1,y_test_pred1))#0.6308724832214765\n"
   ]
  },
  {
   "cell_type": "markdown",
   "metadata": {},
   "source": [
    "## Model 2"
   ]
  },
  {
   "cell_type": "code",
   "execution_count": 10,
   "metadata": {},
   "outputs": [
    {
     "name": "stdout",
     "output_type": "stream",
     "text": [
      "Time:  0.005260799999973642\n",
      "0.96\n",
      "0.9158878504672897\n",
      "0.6577181208053692\n"
     ]
    }
   ],
   "source": [
    "X_2=df[[\"Income\",\"Education\",\"CD Account\"]]\n",
    "scaler=StandardScaler()\n",
    "X_std2=scaler.fit_transform(X_2)\n",
    "\n",
    "X_train2,X_test2,y_train2,y_test2=train_test_split(X_std2,y,random_state=5,test_size=0.3)\n",
    "\n",
    "knn=KNeighborsClassifier(n_neighbors=3)\n",
    "start = timeit.default_timer()\n",
    "model2=knn.fit(X_train2,y_train2)\n",
    "stop = timeit.default_timer()\n",
    "y_test_pred2=model2.predict(X_test2)\n",
    "\n",
    "print('Time: ', stop - start)#0.00793799999996736\n",
    "print(metrics.accuracy_score(y_test2, y_test_pred2)) #0.96\n",
    "print(metrics.precision_score(y_test2,y_test_pred2)) #0.9158878504672897\n",
    "print(metrics.recall_score(y_test2,y_test_pred2))#0.6577181208053692"
   ]
  },
  {
   "cell_type": "markdown",
   "metadata": {},
   "source": [
    "## Model 3"
   ]
  },
  {
   "cell_type": "code",
   "execution_count": 12,
   "metadata": {},
   "outputs": [
    {
     "name": "stdout",
     "output_type": "stream",
     "text": [
      "Time:  0.002430699999990793\n",
      "0.8913333333333333\n",
      "0.4396551724137931\n",
      "0.3422818791946309\n"
     ]
    }
   ],
   "source": [
    "X_3=X_new\n",
    "X_3std=scaler.fit_transform(X_3)\n",
    "X_train3,X_test3,y_train3,y_test3=train_test_split(X_3std,y,random_state=5,test_size=0.3)\n",
    "\n",
    "knn=KNeighborsClassifier(n_neighbors=3)\n",
    "start = timeit.default_timer()\n",
    "model3=knn.fit(X_train3,y_train3)\n",
    "stop = timeit.default_timer()\n",
    "y_test_pred3=model3.predict(X_test3)\n",
    "\n",
    "print('Time: ', stop - start)\n",
    "print(metrics.accuracy_score(y_test3, y_test_pred3))\n",
    "print(metrics.precision_score(y_test3,y_test_pred3)) \n",
    "print(metrics.recall_score(y_test3,y_test_pred3))\n"
   ]
  }
 ],
 "metadata": {
  "kernelspec": {
   "display_name": "Python 3",
   "language": "python",
   "name": "python3"
  },
  "language_info": {
   "codemirror_mode": {
    "name": "ipython",
    "version": 3
   },
   "file_extension": ".py",
   "mimetype": "text/x-python",
   "name": "python",
   "nbconvert_exporter": "python",
   "pygments_lexer": "ipython3",
   "version": "3.7.4"
  }
 },
 "nbformat": 4,
 "nbformat_minor": 2
}
